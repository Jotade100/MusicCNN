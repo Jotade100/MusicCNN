{
 "cells": [
  {
   "cell_type": "markdown",
   "metadata": {},
   "source": [
    "## Clasificación de elementos de notación musical\n",
    "Podemos definir la notación musical como un sistema gráfico de representar el sonido en todos sus grados musicales, las modificaciones de tiempo, intensidad, articulación y matices que le afectan así como las pautas rítmicas y silencios que limitan su intervención.\n",
    "\n",
    "### Proyecto Redes Neuronales\n",
    "El proyecto consiste en obtener distintas imágenes de diversas fuentes para entrenar un modelo predictivo que clasifique imágenes según el símbolo de la notación musical que representan.\n",
    "\n",
    "### ¿Para qué puede usarse?\n",
    "En el mercado existen muy pocos, por no decir uno o dos, software de transcripción de partituras hechas a mano para el ordenador. Con un modelo de precisión alta, podría intentarse desarrollar dicho software.\n",
    "\n",
    "![image.png](https://apacha.github.io/OMR-Datasets/samples/universal-music-symbol-collection.png)\n",
    "\n",
    "### Fuente de obtención de datos\n",
    "https://apacha.github.io/OMR-Datasets/"
   ]
  },
  {
   "cell_type": "markdown",
   "metadata": {},
   "source": [
    "# Proyecto Musical CNN"
   ]
  },
  {
   "cell_type": "code",
   "execution_count": 129,
   "metadata": {},
   "outputs": [],
   "source": [
    "# Importación de las librerías\n",
    "import pandas as pd\n",
    "import numpy as np\n",
    "import seaborn as sns\n",
    "import glob\n",
    "import tensorflow as tf\n",
    "import keras\n",
    "from keras.utils import plot_model\n",
    "from time import time\n",
    "import matplotlib.pyplot as plt\n",
    "from sklearn import preprocessing\n",
    "%matplotlib inline"
   ]
  },
  {
   "cell_type": "markdown",
   "metadata": {},
   "source": [
    "## Lectura de archivos csv"
   ]
  },
  {
   "cell_type": "code",
   "execution_count": null,
   "metadata": {},
   "outputs": [],
   "source": [
    "all_files = glob.glob(\"*.csv\")\n",
    "li = []\n",
    "for filename in all_files:\n",
    "    df = pd.read_csv(filename, sep=',', error_bad_lines=False, header=None)\n",
    "    li.append(df)\n",
    "\n",
    "# Transformando nombre de la última columna \n",
    "frame = pd.concat(li, axis=0, ignore_index=True)\n",
    "frame.rename(columns={ df.columns[576]: \"Clase\" }, inplace = True)"
   ]
  },
  {
   "cell_type": "markdown",
   "metadata": {},
   "source": [
    "## Viendo las categorías más populares\n",
    "Dentro del dataset se encuentran 79 símbolos. Se hizo primero un filtro a nivel de imágenes, antes de realizar los CSV, pero para fines de no sobrecargar la NN, se usarán los primeros 11."
   ]
  },
  {
   "cell_type": "code",
   "execution_count": 32,
   "metadata": {},
   "outputs": [
    {
     "data": {
      "image/png": "[encoded data removed]",
      "text/plain": [
       "<Figure size 1152x432 with 1 Axes>"
      ]
     },
     "metadata": {
      "needs_background": "light"
     },
     "output_type": "display_data"
    }
   ],
   "source": [
    "plt.figure(figsize=(16, 6))\n",
    "ax = sns.countplot(x=\"Clase\", data=frame, order=frame.Clase.value_counts().iloc[:11].index)"
   ]
  },
  {
   "cell_type": "code",
   "execution_count": 38,
   "metadata": {},
   "outputs": [
    {
     "data": {
      "text/plain": [
       "['Quarter-Note',\n",
       " 'Barline',\n",
       " 'Tie-Slur',\n",
       " 'Natural',\n",
       " 'G-Clef',\n",
       " 'Sharp',\n",
       " 'Eighth-Rest',\n",
       " 'Half-Note',\n",
       " 'Sixteenth-Rest',\n",
       " 'Whole-Half-Rest',\n",
       " 'Thirty-Two-Note']"
      ]
     },
     "execution_count": 38,
     "metadata": {},
     "output_type": "execute_result"
    }
   ],
   "source": [
    "filtro = frame.Clase.value_counts().iloc[:11].index.tolist()\n",
    "filtro"
   ]
  },
  {
   "cell_type": "code",
   "execution_count": 44,
   "metadata": {},
   "outputs": [
    {
     "data": {
      "text/html": [
       "<div>\n",
       "<style scoped>\n",
       "    .dataframe tbody tr th:only-of-type {\n",
       "        vertical-align: middle;\n",
       "    }\n",
       "\n",
       "    .dataframe tbody tr th {\n",
       "        vertical-align: top;\n",
       "    }\n",
       "\n",
       "    .dataframe thead th {\n",
       "        text-align: right;\n",
       "    }\n",
       "</style>\n",
       "<table border=\"1\" class=\"dataframe\">\n",
       "  <thead>\n",
       "    <tr style=\"text-align: right;\">\n",
       "      <th></th>\n",
       "      <th>0</th>\n",
       "      <th>1</th>\n",
       "      <th>2</th>\n",
       "      <th>3</th>\n",
       "      <th>4</th>\n",
       "      <th>5</th>\n",
       "      <th>6</th>\n",
       "      <th>7</th>\n",
       "      <th>8</th>\n",
       "      <th>9</th>\n",
       "      <th>...</th>\n",
       "      <th>567</th>\n",
       "      <th>568</th>\n",
       "      <th>569</th>\n",
       "      <th>570</th>\n",
       "      <th>571</th>\n",
       "      <th>572</th>\n",
       "      <th>573</th>\n",
       "      <th>574</th>\n",
       "      <th>575</th>\n",
       "      <th>Clase</th>\n",
       "    </tr>\n",
       "  </thead>\n",
       "  <tbody>\n",
       "    <tr>\n",
       "      <th>1061</th>\n",
       "      <td>0.0</td>\n",
       "      <td>0.0</td>\n",
       "      <td>0.0</td>\n",
       "      <td>0.0</td>\n",
       "      <td>0.0</td>\n",
       "      <td>0.0</td>\n",
       "      <td>0.0</td>\n",
       "      <td>0.0</td>\n",
       "      <td>0.0</td>\n",
       "      <td>0.0</td>\n",
       "      <td>...</td>\n",
       "      <td>0.0</td>\n",
       "      <td>0.0</td>\n",
       "      <td>0.0</td>\n",
       "      <td>0.0</td>\n",
       "      <td>0.0</td>\n",
       "      <td>0.0</td>\n",
       "      <td>0.0</td>\n",
       "      <td>0.0</td>\n",
       "      <td>0.0</td>\n",
       "      <td>Barline</td>\n",
       "    </tr>\n",
       "    <tr>\n",
       "      <th>1062</th>\n",
       "      <td>0.0</td>\n",
       "      <td>0.0</td>\n",
       "      <td>0.0</td>\n",
       "      <td>0.0</td>\n",
       "      <td>0.0</td>\n",
       "      <td>0.0</td>\n",
       "      <td>0.0</td>\n",
       "      <td>0.0</td>\n",
       "      <td>0.0</td>\n",
       "      <td>0.0</td>\n",
       "      <td>...</td>\n",
       "      <td>0.0</td>\n",
       "      <td>0.0</td>\n",
       "      <td>0.0</td>\n",
       "      <td>0.0</td>\n",
       "      <td>0.0</td>\n",
       "      <td>0.0</td>\n",
       "      <td>0.0</td>\n",
       "      <td>0.0</td>\n",
       "      <td>0.0</td>\n",
       "      <td>Barline</td>\n",
       "    </tr>\n",
       "    <tr>\n",
       "      <th>1063</th>\n",
       "      <td>0.0</td>\n",
       "      <td>0.0</td>\n",
       "      <td>0.0</td>\n",
       "      <td>0.0</td>\n",
       "      <td>0.0</td>\n",
       "      <td>0.0</td>\n",
       "      <td>0.0</td>\n",
       "      <td>0.0</td>\n",
       "      <td>0.0</td>\n",
       "      <td>0.0</td>\n",
       "      <td>...</td>\n",
       "      <td>0.0</td>\n",
       "      <td>0.0</td>\n",
       "      <td>0.0</td>\n",
       "      <td>0.0</td>\n",
       "      <td>0.0</td>\n",
       "      <td>0.0</td>\n",
       "      <td>0.0</td>\n",
       "      <td>0.0</td>\n",
       "      <td>0.0</td>\n",
       "      <td>Barline</td>\n",
       "    </tr>\n",
       "    <tr>\n",
       "      <th>1064</th>\n",
       "      <td>0.0</td>\n",
       "      <td>0.0</td>\n",
       "      <td>0.0</td>\n",
       "      <td>0.0</td>\n",
       "      <td>0.0</td>\n",
       "      <td>0.0</td>\n",
       "      <td>0.0</td>\n",
       "      <td>0.0</td>\n",
       "      <td>0.0</td>\n",
       "      <td>0.0</td>\n",
       "      <td>...</td>\n",
       "      <td>0.0</td>\n",
       "      <td>0.0</td>\n",
       "      <td>0.0</td>\n",
       "      <td>0.0</td>\n",
       "      <td>0.0</td>\n",
       "      <td>0.0</td>\n",
       "      <td>0.0</td>\n",
       "      <td>0.0</td>\n",
       "      <td>0.0</td>\n",
       "      <td>Barline</td>\n",
       "    </tr>\n",
       "    <tr>\n",
       "      <th>1065</th>\n",
       "      <td>0.0</td>\n",
       "      <td>0.0</td>\n",
       "      <td>0.0</td>\n",
       "      <td>0.0</td>\n",
       "      <td>0.0</td>\n",
       "      <td>0.0</td>\n",
       "      <td>0.0</td>\n",
       "      <td>0.0</td>\n",
       "      <td>0.0</td>\n",
       "      <td>0.0</td>\n",
       "      <td>...</td>\n",
       "      <td>0.0</td>\n",
       "      <td>0.0</td>\n",
       "      <td>0.0</td>\n",
       "      <td>0.0</td>\n",
       "      <td>0.0</td>\n",
       "      <td>0.0</td>\n",
       "      <td>0.0</td>\n",
       "      <td>0.0</td>\n",
       "      <td>0.0</td>\n",
       "      <td>Barline</td>\n",
       "    </tr>\n",
       "    <tr>\n",
       "      <th>1066</th>\n",
       "      <td>0.0</td>\n",
       "      <td>0.0</td>\n",
       "      <td>0.0</td>\n",
       "      <td>0.0</td>\n",
       "      <td>0.0</td>\n",
       "      <td>0.0</td>\n",
       "      <td>0.0</td>\n",
       "      <td>0.0</td>\n",
       "      <td>0.0</td>\n",
       "      <td>0.0</td>\n",
       "      <td>...</td>\n",
       "      <td>0.0</td>\n",
       "      <td>0.0</td>\n",
       "      <td>0.0</td>\n",
       "      <td>0.0</td>\n",
       "      <td>0.0</td>\n",
       "      <td>0.0</td>\n",
       "      <td>0.0</td>\n",
       "      <td>0.0</td>\n",
       "      <td>0.0</td>\n",
       "      <td>Barline</td>\n",
       "    </tr>\n",
       "    <tr>\n",
       "      <th>1067</th>\n",
       "      <td>0.0</td>\n",
       "      <td>0.0</td>\n",
       "      <td>0.0</td>\n",
       "      <td>0.0</td>\n",
       "      <td>0.0</td>\n",
       "      <td>0.0</td>\n",
       "      <td>0.0</td>\n",
       "      <td>0.0</td>\n",
       "      <td>0.0</td>\n",
       "      <td>0.0</td>\n",
       "      <td>...</td>\n",
       "      <td>0.0</td>\n",
       "      <td>0.0</td>\n",
       "      <td>0.0</td>\n",
       "      <td>0.0</td>\n",
       "      <td>0.0</td>\n",
       "      <td>0.0</td>\n",
       "      <td>0.0</td>\n",
       "      <td>0.0</td>\n",
       "      <td>0.0</td>\n",
       "      <td>Barline</td>\n",
       "    </tr>\n",
       "    <tr>\n",
       "      <th>1068</th>\n",
       "      <td>0.0</td>\n",
       "      <td>0.0</td>\n",
       "      <td>0.0</td>\n",
       "      <td>0.0</td>\n",
       "      <td>0.0</td>\n",
       "      <td>0.0</td>\n",
       "      <td>0.0</td>\n",
       "      <td>0.0</td>\n",
       "      <td>0.0</td>\n",
       "      <td>0.0</td>\n",
       "      <td>...</td>\n",
       "      <td>0.0</td>\n",
       "      <td>0.0</td>\n",
       "      <td>0.0</td>\n",
       "      <td>0.0</td>\n",
       "      <td>0.0</td>\n",
       "      <td>0.0</td>\n",
       "      <td>0.0</td>\n",
       "      <td>0.0</td>\n",
       "      <td>0.0</td>\n",
       "      <td>Barline</td>\n",
       "    </tr>\n",
       "    <tr>\n",
       "      <th>1069</th>\n",
       "      <td>0.0</td>\n",
       "      <td>0.0</td>\n",
       "      <td>0.0</td>\n",
       "      <td>0.0</td>\n",
       "      <td>0.0</td>\n",
       "      <td>0.0</td>\n",
       "      <td>0.0</td>\n",
       "      <td>0.0</td>\n",
       "      <td>0.0</td>\n",
       "      <td>0.0</td>\n",
       "      <td>...</td>\n",
       "      <td>0.0</td>\n",
       "      <td>0.0</td>\n",
       "      <td>0.0</td>\n",
       "      <td>0.0</td>\n",
       "      <td>0.0</td>\n",
       "      <td>0.0</td>\n",
       "      <td>0.0</td>\n",
       "      <td>0.0</td>\n",
       "      <td>0.0</td>\n",
       "      <td>Barline</td>\n",
       "    </tr>\n",
       "    <tr>\n",
       "      <th>1070</th>\n",
       "      <td>0.0</td>\n",
       "      <td>0.0</td>\n",
       "      <td>0.0</td>\n",
       "      <td>0.0</td>\n",
       "      <td>0.0</td>\n",
       "      <td>0.0</td>\n",
       "      <td>0.0</td>\n",
       "      <td>0.0</td>\n",
       "      <td>0.0</td>\n",
       "      <td>0.0</td>\n",
       "      <td>...</td>\n",
       "      <td>0.0</td>\n",
       "      <td>0.0</td>\n",
       "      <td>0.0</td>\n",
       "      <td>0.0</td>\n",
       "      <td>0.0</td>\n",
       "      <td>0.0</td>\n",
       "      <td>0.0</td>\n",
       "      <td>0.0</td>\n",
       "      <td>0.0</td>\n",
       "      <td>Barline</td>\n",
       "    </tr>\n",
       "  </tbody>\n",
       "</table>\n",
       "<p>10 rows × 577 columns</p>\n",
       "</div>"
      ],
      "text/plain": [
       "        0    1    2    3    4    5    6    7    8    9  ...  567  568  569  \\\n",
       "1061  0.0  0.0  0.0  0.0  0.0  0.0  0.0  0.0  0.0  0.0  ...  0.0  0.0  0.0   \n",
       "1062  0.0  0.0  0.0  0.0  0.0  0.0  0.0  0.0  0.0  0.0  ...  0.0  0.0  0.0   \n",
       "1063  0.0  0.0  0.0  0.0  0.0  0.0  0.0  0.0  0.0  0.0  ...  0.0  0.0  0.0   \n",
       "1064  0.0  0.0  0.0  0.0  0.0  0.0  0.0  0.0  0.0  0.0  ...  0.0  0.0  0.0   \n",
       "1065  0.0  0.0  0.0  0.0  0.0  0.0  0.0  0.0  0.0  0.0  ...  0.0  0.0  0.0   \n",
       "1066  0.0  0.0  0.0  0.0  0.0  0.0  0.0  0.0  0.0  0.0  ...  0.0  0.0  0.0   \n",
       "1067  0.0  0.0  0.0  0.0  0.0  0.0  0.0  0.0  0.0  0.0  ...  0.0  0.0  0.0   \n",
       "1068  0.0  0.0  0.0  0.0  0.0  0.0  0.0  0.0  0.0  0.0  ...  0.0  0.0  0.0   \n",
       "1069  0.0  0.0  0.0  0.0  0.0  0.0  0.0  0.0  0.0  0.0  ...  0.0  0.0  0.0   \n",
       "1070  0.0  0.0  0.0  0.0  0.0  0.0  0.0  0.0  0.0  0.0  ...  0.0  0.0  0.0   \n",
       "\n",
       "      570  571  572  573  574  575    Clase  \n",
       "1061  0.0  0.0  0.0  0.0  0.0  0.0  Barline  \n",
       "1062  0.0  0.0  0.0  0.0  0.0  0.0  Barline  \n",
       "1063  0.0  0.0  0.0  0.0  0.0  0.0  Barline  \n",
       "1064  0.0  0.0  0.0  0.0  0.0  0.0  Barline  \n",
       "1065  0.0  0.0  0.0  0.0  0.0  0.0  Barline  \n",
       "1066  0.0  0.0  0.0  0.0  0.0  0.0  Barline  \n",
       "1067  0.0  0.0  0.0  0.0  0.0  0.0  Barline  \n",
       "1068  0.0  0.0  0.0  0.0  0.0  0.0  Barline  \n",
       "1069  0.0  0.0  0.0  0.0  0.0  0.0  Barline  \n",
       "1070  0.0  0.0  0.0  0.0  0.0  0.0  Barline  \n",
       "\n",
       "[10 rows x 577 columns]"
      ]
     },
     "execution_count": 44,
     "metadata": {},
     "output_type": "execute_result"
    }
   ],
   "source": [
    "datos = frame[frame['Clase'].isin(filtro)]\n",
    "datos.head(10)"
   ]
  },
  {
   "cell_type": "code",
   "execution_count": 45,
   "metadata": {},
   "outputs": [
    {
     "data": {
      "text/plain": [
       "array([[0.0, 0.0, 0.0, ..., 0.0, 0.0, 'Barline'],\n",
       "       [0.0, 0.0, 0.0, ..., 0.0, 0.0, 'Barline'],\n",
       "       [0.0, 0.0, 0.0, ..., 0.0, 0.0, 'Barline'],\n",
       "       ...,\n",
       "       [0.0, 0.0, 0.0, ..., 0.0, 0.0, 'Whole-Half-Rest'],\n",
       "       [0.0, 0.0, 0.0, ..., 0.0, 0.0, 'Whole-Half-Rest'],\n",
       "       [0.0, 0.0, 0.0, ..., 0.0, 0.0, 'Whole-Half-Rest']], dtype=object)"
      ]
     },
     "execution_count": 45,
     "metadata": {},
     "output_type": "execute_result"
    }
   ],
   "source": [
    "datos = datos.to_numpy()\n",
    "datos"
   ]
  },
  {
   "cell_type": "markdown",
   "metadata": {},
   "source": [
    "#### Mostrando un objeto\n",
    "Se graficará un objeto de ejemplo. Todas las imágenes están a blanco y negro."
   ]
  },
  {
   "cell_type": "code",
   "execution_count": 71,
   "metadata": {},
   "outputs": [
    {
     "data": {
      "image/png": "[encoded data removed]",
      "text/plain": [
       "<Figure size 432x288 with 1 Axes>"
      ]
     },
     "metadata": {
      "needs_background": "light"
     },
     "output_type": "display_data"
    }
   ],
   "source": [
    "plt.imshow(np.resize(datos[15032][0:575].astype(float),(24,24)), cmap=\"gray\")\n",
    "plt.title(datos[15032][576])\n",
    "plt.show()"
   ]
  },
  {
   "cell_type": "code",
   "execution_count": null,
   "metadata": {},
   "outputs": [],
   "source": [
    "# Convirtiendo los datos a float\n",
    "datos[::, 0::575] = datos[::,0::575].astype(float)"
   ]
  },
  {
   "cell_type": "markdown",
   "metadata": {},
   "source": [
    "#### Codificando las categorías\n",
    "Se codificarán las categorías de texto a número para el modelo predictivo."
   ]
  },
  {
   "cell_type": "code",
   "execution_count": 84,
   "metadata": {},
   "outputs": [
    {
     "data": {
      "text/plain": [
       "array(['Barline', 'Eighth-Rest', 'G-Clef', 'Half-Note', 'Natural',\n",
       "       'Quarter-Note', 'Sharp', 'Sixteenth-Rest', 'Thirty-Two-Note',\n",
       "       'Tie-Slur', 'Whole-Half-Rest'], dtype=object)"
      ]
     },
     "execution_count": 84,
     "metadata": {},
     "output_type": "execute_result"
    }
   ],
   "source": [
    "# Label encoder para las categorías\n",
    "le = preprocessing.LabelEncoder()\n",
    "le.fit(datos[::,576])\n",
    "le.classes_"
   ]
  },
  {
   "cell_type": "code",
   "execution_count": 85,
   "metadata": {},
   "outputs": [],
   "source": [
    "# Transformando los datos a forma numérica\n",
    "datos[::,576] = le.transform(datos[::,576])"
   ]
  },
  {
   "cell_type": "code",
   "execution_count": 87,
   "metadata": {},
   "outputs": [
    {
     "data": {
      "text/plain": [
       "array([[ 0.,  0.,  0., ...,  0.,  0.,  0.],\n",
       "       [ 0.,  0.,  0., ...,  0.,  0.,  0.],\n",
       "       [ 0.,  0.,  0., ...,  0.,  0.,  0.],\n",
       "       ...,\n",
       "       [ 0.,  0.,  0., ...,  0.,  0., 10.],\n",
       "       [ 0.,  0.,  0., ...,  0.,  0., 10.],\n",
       "       [ 0.,  0.,  0., ...,  0.,  0., 10.]])"
      ]
     },
     "execution_count": 87,
     "metadata": {},
     "output_type": "execute_result"
    }
   ],
   "source": [
    "# Convirtiendo los datos a flotante\n",
    "datos.astype(float)"
   ]
  },
  {
   "cell_type": "markdown",
   "metadata": {},
   "source": [
    "### Partiendo el modelo en parte de entrenamiento y validación"
   ]
  },
  {
   "cell_type": "code",
   "execution_count": 92,
   "metadata": {},
   "outputs": [],
   "source": [
    "from sklearn.model_selection import train_test_split\n",
    "# Haciendo el splitting entre training set y test set\n",
    "train, test = train_test_split(datos, test_size=0.30) # Usé la librería de sklearn para hacerlo de manera más simple"
   ]
  },
  {
   "cell_type": "code",
   "execution_count": 97,
   "metadata": {},
   "outputs": [],
   "source": [
    "# Segmentando el dataset en X y Y\n",
    "x_train = train[::,:576].astype(float)\n",
    "y_train = train[::, 576].astype(float)\n",
    "x_test = train[::,:576].astype(float)\n",
    "y_test = train[::, 576].astype(float)\n",
    "\n",
    "# Re-escalando las imágenes\n",
    "x_train = x_train / 255\n",
    "x_test = x_test / 255"
   ]
  },
  {
   "cell_type": "markdown",
   "metadata": {},
   "source": [
    "##### El tamaño no tiene las dimensiones para CNN"
   ]
  },
  {
   "cell_type": "code",
   "execution_count": 103,
   "metadata": {},
   "outputs": [
    {
     "data": {
      "text/plain": [
       "(576,)"
      ]
     },
     "execution_count": 103,
     "metadata": {},
     "output_type": "execute_result"
    }
   ],
   "source": [
    "# Tamaño del input antes de prepararlo\n",
    "x_train[100].shape"
   ]
  },
  {
   "cell_type": "code",
   "execution_count": 111,
   "metadata": {},
   "outputs": [],
   "source": [
    "# Preparándolo con tamaño (24, 24, 1)\n",
    "x_train = x_train.reshape(x_train.shape[0], 24, 24, 1)"
   ]
  },
  {
   "cell_type": "code",
   "execution_count": 112,
   "metadata": {},
   "outputs": [
    {
     "data": {
      "text/plain": [
       "(24, 24, 1)"
      ]
     },
     "execution_count": 112,
     "metadata": {},
     "output_type": "execute_result"
    }
   ],
   "source": [
    "# Tamaño del input\n",
    "x_train[100].shape"
   ]
  },
  {
   "cell_type": "markdown",
   "metadata": {},
   "source": [
    "## Modelo Predictivo\n",
    "Se usará Keras para construir la CNN. Tendrá dos capas convolucionales y dos capas de neuronas."
   ]
  },
  {
   "cell_type": "code",
   "execution_count": 100,
   "metadata": {},
   "outputs": [],
   "source": [
    "from keras.models import Sequential\n",
    "from keras.layers import Conv2D, MaxPooling2D, Dense, Flatten, Dropout"
   ]
  },
  {
   "cell_type": "code",
   "execution_count": 115,
   "metadata": {},
   "outputs": [
    {
     "name": "stdout",
     "output_type": "stream",
     "text": [
      "Model: \"Simple CNN\"\n",
      "_________________________________________________________________\n",
      "Layer (type)                 Output Shape              Param #   \n",
      "=================================================================\n",
      "conv2d_5 (Conv2D)            (None, 22, 22, 24)        240       \n",
      "_________________________________________________________________\n",
      "max_pooling2d_3 (MaxPooling2 (None, 11, 11, 24)        0         \n",
      "_________________________________________________________________\n",
      "dropout_2 (Dropout)          (None, 11, 11, 24)        0         \n",
      "_________________________________________________________________\n",
      "conv2d_6 (Conv2D)            (None, 9, 9, 48)          10416     \n",
      "_________________________________________________________________\n",
      "max_pooling2d_4 (MaxPooling2 (None, 4, 4, 48)          0         \n",
      "_________________________________________________________________\n",
      "flatten_2 (Flatten)          (None, 768)               0         \n",
      "_________________________________________________________________\n",
      "dense_3 (Dense)              (None, 512)               393728    \n",
      "_________________________________________________________________\n",
      "dense_4 (Dense)              (None, 11)                5643      \n",
      "=================================================================\n",
      "Total params: 410,027\n",
      "Trainable params: 410,027\n",
      "Non-trainable params: 0\n",
      "_________________________________________________________________\n",
      "None\n"
     ]
    }
   ],
   "source": [
    "cnn_model = Sequential(name='Simple CNN')\n",
    "\n",
    "#convlolutional layers\n",
    "cnn_model.add(Conv2D(24, kernel_size=(3, 3), activation='relu', input_shape=(24, 24, 1)))\n",
    "cnn_model.add(MaxPooling2D(pool_size=(2,2)))\n",
    "cnn_model.add(Dropout(0.25))\n",
    "\n",
    "cnn_model.add(Conv2D(48, kernel_size=(3, 3), activation='relu'))\n",
    "cnn_model.add(MaxPooling2D(pool_size=(2,2)))\n",
    "\n",
    "# dense layers\n",
    "cnn_model.add(Flatten())\n",
    "cnn_model.add(Dense(512, activation='relu'))\n",
    "cnn_model.add(Dense(11, activation='softmax'))\n",
    "\n",
    "# Compile the model\n",
    "cnn_model.compile(optimizer='sgd',\n",
    "              loss='sparse_categorical_crossentropy',\n",
    "              metrics=['accuracy'])\n",
    "\n",
    "print(cnn_model.summary())"
   ]
  },
  {
   "cell_type": "code",
   "execution_count": 116,
   "metadata": {},
   "outputs": [
    {
     "name": "stdout",
     "output_type": "stream",
     "text": [
      "Train on 19758 samples, validate on 4940 samples\n",
      "Epoch 1/20\n",
      "19758/19758 [==============================] - 11s 554us/step - loss: 1.8886 - accuracy: 0.3893 - val_loss: 1.5115 - val_accuracy: 0.5241\n",
      "Epoch 2/20\n",
      "19758/19758 [==============================] - 11s 557us/step - loss: 1.1913 - accuracy: 0.6291 - val_loss: 1.0359 - val_accuracy: 0.6538\n",
      "Epoch 3/20\n",
      "19758/19758 [==============================] - 11s 541us/step - loss: 0.8782 - accuracy: 0.7235 - val_loss: 0.8858 - val_accuracy: 0.7071\n",
      "Epoch 4/20\n",
      "19758/19758 [==============================] - 11s 543us/step - loss: 0.7116 - accuracy: 0.7750 - val_loss: 0.6248 - val_accuracy: 0.8022\n",
      "Epoch 5/20\n",
      "19758/19758 [==============================] - 11s 541us/step - loss: 0.6361 - accuracy: 0.7999 - val_loss: 0.5499 - val_accuracy: 0.8403\n",
      "Epoch 6/20\n",
      "19758/19758 [==============================] - 11s 536us/step - loss: 0.5580 - accuracy: 0.8262 - val_loss: 0.5204 - val_accuracy: 0.8385\n",
      "Epoch 7/20\n",
      "19758/19758 [==============================] - 12s 605us/step - loss: 0.5011 - accuracy: 0.8456 - val_loss: 0.5421 - val_accuracy: 0.8194\n",
      "Epoch 8/20\n",
      "19758/19758 [==============================] - 12s 597us/step - loss: 0.4592 - accuracy: 0.8589 - val_loss: 0.4527 - val_accuracy: 0.8595\n",
      "Epoch 9/20\n",
      "19758/19758 [==============================] - 10s 500us/step - loss: 0.4275 - accuracy: 0.8703 - val_loss: 0.3930 - val_accuracy: 0.8840\n",
      "Epoch 10/20\n",
      "19758/19758 [==============================] - 11s 538us/step - loss: 0.4117 - accuracy: 0.8737 - val_loss: 0.4313 - val_accuracy: 0.8702\n",
      "Epoch 11/20\n",
      "19758/19758 [==============================] - 11s 546us/step - loss: 0.3828 - accuracy: 0.8825 - val_loss: 0.3933 - val_accuracy: 0.8860\n",
      "Epoch 12/20\n",
      "19758/19758 [==============================] - 11s 564us/step - loss: 0.3554 - accuracy: 0.8937 - val_loss: 0.3425 - val_accuracy: 0.8966s - loss: 0.3592 \n",
      "Epoch 13/20\n",
      "19758/19758 [==============================] - 11s 558us/step - loss: 0.3445 - accuracy: 0.8963 - val_loss: 0.3163 - val_accuracy: 0.9083\n",
      "Epoch 14/20\n",
      "19758/19758 [==============================] - 11s 582us/step - loss: 0.3287 - accuracy: 0.8988 - val_loss: 0.3537 - val_accuracy: 0.8919\n",
      "Epoch 15/20\n",
      "19758/19758 [==============================] - 11s 552us/step - loss: 0.3168 - accuracy: 0.9050 - val_loss: 0.3140 - val_accuracy: 0.9020\n",
      "Epoch 16/20\n",
      "19758/19758 [==============================] - 11s 562us/step - loss: 0.3011 - accuracy: 0.9083 - val_loss: 0.4366 - val_accuracy: 0.8464\n",
      "Epoch 17/20\n",
      "19758/19758 [==============================] - 11s 556us/step - loss: 0.2863 - accuracy: 0.9120 - val_loss: 0.2680 - val_accuracy: 0.9196\n",
      "Epoch 18/20\n",
      "19758/19758 [==============================] - 11s 568us/step - loss: 0.2769 - accuracy: 0.9173 - val_loss: 0.2609 - val_accuracy: 0.9231\n",
      "Epoch 19/20\n",
      "19758/19758 [==============================] - 11s 550us/step - loss: 0.2661 - accuracy: 0.9204 - val_loss: 0.2680 - val_accuracy: 0.9180\n",
      "Epoch 20/20\n",
      "19758/19758 [==============================] - 11s 561us/step - loss: 0.2553 - accuracy: 0.9231 - val_loss: 0.2466 - val_accuracy: 0.9273\n"
     ]
    }
   ],
   "source": [
    "hitorial_del_modelo = cnn_model.fit(x_train, y_train,\n",
    "                          batch_size = 128,\n",
    "                          epochs = 20,\n",
    "                          validation_split = 0.2,\n",
    "                          shuffle=True, verbose=1)"
   ]
  },
  {
   "cell_type": "markdown",
   "metadata": {},
   "source": [
    "# Obteniendo los resultados del modelo durante el entrenamiento\n",
    "Ver el desempeño del modelo durante el entrenamiento."
   ]
  },
  {
   "cell_type": "code",
   "execution_count": 128,
   "metadata": {},
   "outputs": [
    {
     "data": {
      "image/png": "[encoded data removed]",
      "text/plain": [
       "<Figure size 1152x864 with 2 Axes>"
      ]
     },
     "metadata": {
      "needs_background": "light"
     },
     "output_type": "display_data"
    }
   ],
   "source": [
    "def plot_hist(model_history):\n",
    "    fix,axs=plt.subplots(2,1,figsize=(16,12))\n",
    "    ax1 = axs[0]\n",
    "    ax1.plot(model_history.history['accuracy'])\n",
    "    ax1.plot(model_history.history['val_accuracy'],c='g')\n",
    "    ax1.set_title('Precisión del modelo',fontsize=16)\n",
    "    ax1.set_ylabel('Precisión',fontsize=8)\n",
    "    ax1.set_xlabel('Época',fontsize=8)\n",
    "    ax1.grid(alpha=0.3)\n",
    "    ax1.legend(['Training', 'Testing'], loc='upper left')\n",
    "\n",
    "\n",
    "    # # summarize history for loss\n",
    "    ax2 = axs[1]\n",
    "    ax2.plot(model_history.history['loss'],c='r')\n",
    "    ax2.plot(model_history.history['val_loss'],c='orange')\n",
    "    ax2.set_title('Pérdida de error',fontsize=16)\n",
    "    ax2.set_ylabel('Precisión',fontsize=8)\n",
    "    ax2.set_xlabel('Época',fontsize=8)\n",
    "    ax2.grid(alpha=0.3)\n",
    "    ax2.legend(['Entrenamiento', 'Testing'], loc='upper right')\n",
    "    plt.show()\n",
    "\n",
    "\n",
    "plot_hist(hitorial_del_modelo)"
   ]
  },
  {
   "cell_type": "markdown",
   "metadata": {},
   "source": [
    "### Probando el modelo"
   ]
  },
  {
   "cell_type": "code",
   "execution_count": 124,
   "metadata": {},
   "outputs": [],
   "source": [
    "# Preparándolo con tamaño (24, 24, 1)\n",
    "x_test = x_test.reshape(x_test.shape[0], 24, 24, 1)"
   ]
  },
  {
   "cell_type": "code",
   "execution_count": 125,
   "metadata": {},
   "outputs": [
    {
     "name": "stdout",
     "output_type": "stream",
     "text": [
      "24698/24698 [==============================] - ETA:  - 7s 298us/step\n",
      "\n",
      "Test accuracy: 0.9334763884544373\n",
      "Test loss:     0.22832570206840005\n"
     ]
    }
   ],
   "source": [
    "test_loss, test_acc = cnn_model.evaluate(x_test, y_test)\n",
    "\n",
    "print('\\nTest accuracy:', test_acc)\n",
    "print('Test loss:    ', test_loss)"
   ]
  },
  {
   "cell_type": "markdown",
   "metadata": {},
   "source": [
    "### Graficando el modelo"
   ]
  },
  {
   "cell_type": "code",
   "execution_count": 130,
   "metadata": {},
   "outputs": [
    {
     "data": {
      "image/png": "[encoded data removed]",
      "text/plain": [
       "<IPython.core.display.Image object>"
      ]
     },
     "execution_count": 130,
     "metadata": {},
     "output_type": "execute_result"
    }
   ],
   "source": [
    "plot_model(cnn_model, to_file='model.png', show_shapes=True, show_layer_names=True)"
   ]
  },
  {
   "cell_type": "code",
   "execution_count": null,
   "metadata": {},
   "outputs": [],
   "source": []
  }
 ],
 "metadata": {
  "kernelspec": {
   "display_name": "Python 3",
   "language": "python",
   "name": "python3"
  },
  "language_info": {
   "codemirror_mode": {
    "name": "ipython",
    "version": 3
   },
   "file_extension": ".py",
   "mimetype": "text/x-python",
   "name": "python",
   "nbconvert_exporter": "python",
   "pygments_lexer": "ipython3",
   "version": "3.8.2"
  }
 },
 "nbformat": 4,
 "nbformat_minor": 4
}
